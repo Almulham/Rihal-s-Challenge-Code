{
  "nbformat": 4,
  "nbformat_minor": 0,
  "metadata": {
    "colab": {
      "name": "Rihal's Data Engineering challenge (Almulham Albusaidi).ipynb",
      "provenance": [],
      "collapsed_sections": [],
      "authorship_tag": "ABX9TyMGIBnFiNg05Qek5CJbUf4l",
      "include_colab_link": true
    },
    "kernelspec": {
      "name": "python3",
      "display_name": "Python 3"
    },
    "language_info": {
      "name": "python"
    }
  },
  "cells": [
    {
      "cell_type": "markdown",
      "metadata": {
        "id": "view-in-github",
        "colab_type": "text"
      },
      "source": [
        "<a href=\"https://colab.research.google.com/github/Almulham/Rihal-s-Challenge-Code/blob/main/Rihal's_Data_Engineering_challenge_(Almulham_Albusaidi).ipynb\" target=\"_parent\"><img src=\"https://colab.research.google.com/assets/colab-badge.svg\" alt=\"Open In Colab\"/></a>"
      ]
    },
    {
      "cell_type": "code",
      "execution_count": 1,
      "metadata": {
        "colab": {
          "base_uri": "https://localhost:8080/"
        },
        "id": "T3rquuYiRAE5",
        "outputId": "143c4a0b-6793-47f1-b4f2-81779f2daa55"
      },
      "outputs": [
        {
          "output_type": "stream",
          "name": "stdout",
          "text": [
            "Reading package lists... Done\n",
            "Building dependency tree       \n",
            "Reading state information... Done\n",
            "The following packages were automatically installed and are no longer required:\n",
            "  cuda-command-line-tools-10-0 cuda-command-line-tools-10-1\n",
            "  cuda-command-line-tools-11-0 cuda-compiler-10-0 cuda-compiler-10-1\n",
            "  cuda-compiler-11-0 cuda-cuobjdump-10-0 cuda-cuobjdump-10-1\n",
            "  cuda-cuobjdump-11-0 cuda-cupti-10-0 cuda-cupti-10-1 cuda-cupti-11-0\n",
            "  cuda-cupti-dev-11-0 cuda-documentation-10-0 cuda-documentation-10-1\n",
            "  cuda-documentation-11-0 cuda-documentation-11-1 cuda-gdb-10-0 cuda-gdb-10-1\n",
            "  cuda-gdb-11-0 cuda-gpu-library-advisor-10-0 cuda-gpu-library-advisor-10-1\n",
            "  cuda-libraries-10-0 cuda-libraries-10-1 cuda-libraries-11-0\n",
            "  cuda-memcheck-10-0 cuda-memcheck-10-1 cuda-memcheck-11-0 cuda-nsight-10-0\n",
            "  cuda-nsight-10-1 cuda-nsight-11-0 cuda-nsight-11-1 cuda-nsight-compute-10-0\n",
            "  cuda-nsight-compute-10-1 cuda-nsight-compute-11-0 cuda-nsight-compute-11-1\n",
            "  cuda-nsight-systems-10-1 cuda-nsight-systems-11-0 cuda-nsight-systems-11-1\n",
            "  cuda-nvcc-10-0 cuda-nvcc-10-1 cuda-nvcc-11-0 cuda-nvdisasm-10-0\n",
            "  cuda-nvdisasm-10-1 cuda-nvdisasm-11-0 cuda-nvml-dev-10-0 cuda-nvml-dev-10-1\n",
            "  cuda-nvml-dev-11-0 cuda-nvprof-10-0 cuda-nvprof-10-1 cuda-nvprof-11-0\n",
            "  cuda-nvprune-10-0 cuda-nvprune-10-1 cuda-nvprune-11-0 cuda-nvtx-10-0\n",
            "  cuda-nvtx-10-1 cuda-nvtx-11-0 cuda-nvvp-10-0 cuda-nvvp-10-1 cuda-nvvp-11-0\n",
            "  cuda-nvvp-11-1 cuda-samples-10-0 cuda-samples-10-1 cuda-samples-11-0\n",
            "  cuda-samples-11-1 cuda-sanitizer-11-0 cuda-sanitizer-api-10-1\n",
            "  cuda-toolkit-10-0 cuda-toolkit-10-1 cuda-toolkit-11-0 cuda-toolkit-11-1\n",
            "  cuda-tools-10-0 cuda-tools-10-1 cuda-tools-11-0 cuda-tools-11-1\n",
            "  cuda-visual-tools-10-0 cuda-visual-tools-10-1 cuda-visual-tools-11-0\n",
            "  cuda-visual-tools-11-1 default-jre dkms freeglut3 freeglut3-dev\n",
            "  keyboard-configuration libargon2-0 libcap2 libcryptsetup12\n",
            "  libdevmapper1.02.1 libfontenc1 libidn11 libip4tc0 libjansson4\n",
            "  libnvidia-cfg1-510 libnvidia-common-460 libnvidia-common-510\n",
            "  libnvidia-extra-510 libnvidia-fbc1-510 libnvidia-gl-510 libpam-systemd\n",
            "  libpolkit-agent-1-0 libpolkit-backend-1-0 libpolkit-gobject-1-0 libxfont2\n",
            "  libxi-dev libxkbfile1 libxmu-dev libxmu-headers libxnvctrl0 libxtst6\n",
            "  nsight-compute-2020.2.1 nsight-compute-2022.1.0 nsight-systems-2020.3.2\n",
            "  nsight-systems-2020.3.4 nsight-systems-2021.5.2 nvidia-dkms-510\n",
            "  nvidia-kernel-common-510 nvidia-kernel-source-510 nvidia-modprobe\n",
            "  nvidia-settings openjdk-11-jre policykit-1 policykit-1-gnome python3-xkit\n",
            "  screen-resolution-extra systemd systemd-sysv udev x11-xkb-utils\n",
            "  xserver-common xserver-xorg-core-hwe-18.04 xserver-xorg-video-nvidia-510\n",
            "Use 'sudo apt autoremove' to remove them.\n",
            "The following additional packages will be installed:\n",
            "  tesseract-ocr-eng tesseract-ocr-osd\n",
            "The following NEW packages will be installed:\n",
            "  tesseract-ocr tesseract-ocr-eng tesseract-ocr-osd\n",
            "0 upgraded, 3 newly installed, 0 to remove and 39 not upgraded.\n",
            "Need to get 4,795 kB of archives.\n",
            "After this operation, 15.8 MB of additional disk space will be used.\n",
            "Get:1 http://archive.ubuntu.com/ubuntu bionic/universe amd64 tesseract-ocr-eng all 4.00~git24-0e00fe6-1.2 [1,588 kB]\n",
            "Get:2 http://archive.ubuntu.com/ubuntu bionic/universe amd64 tesseract-ocr-osd all 4.00~git24-0e00fe6-1.2 [2,989 kB]\n",
            "Get:3 http://archive.ubuntu.com/ubuntu bionic/universe amd64 tesseract-ocr amd64 4.00~git2288-10f4998a-2 [218 kB]\n",
            "Fetched 4,795 kB in 1s (5,322 kB/s)\n",
            "debconf: unable to initialize frontend: Dialog\n",
            "debconf: (No usable dialog-like program is installed, so the dialog based frontend cannot be used. at /usr/share/perl5/Debconf/FrontEnd/Dialog.pm line 76, <> line 3.)\n",
            "debconf: falling back to frontend: Readline\n",
            "debconf: unable to initialize frontend: Readline\n",
            "debconf: (This frontend requires a controlling tty.)\n",
            "debconf: falling back to frontend: Teletype\n",
            "dpkg-preconfigure: unable to re-open stdin: \n",
            "Selecting previously unselected package tesseract-ocr-eng.\n",
            "(Reading database ... 155113 files and directories currently installed.)\n",
            "Preparing to unpack .../tesseract-ocr-eng_4.00~git24-0e00fe6-1.2_all.deb ...\n",
            "Unpacking tesseract-ocr-eng (4.00~git24-0e00fe6-1.2) ...\n",
            "Selecting previously unselected package tesseract-ocr-osd.\n",
            "Preparing to unpack .../tesseract-ocr-osd_4.00~git24-0e00fe6-1.2_all.deb ...\n",
            "Unpacking tesseract-ocr-osd (4.00~git24-0e00fe6-1.2) ...\n",
            "Selecting previously unselected package tesseract-ocr.\n",
            "Preparing to unpack .../tesseract-ocr_4.00~git2288-10f4998a-2_amd64.deb ...\n",
            "Unpacking tesseract-ocr (4.00~git2288-10f4998a-2) ...\n",
            "Setting up tesseract-ocr-osd (4.00~git24-0e00fe6-1.2) ...\n",
            "Setting up tesseract-ocr-eng (4.00~git24-0e00fe6-1.2) ...\n",
            "Setting up tesseract-ocr (4.00~git2288-10f4998a-2) ...\n",
            "Processing triggers for man-db (2.8.3-2ubuntu0.1) ...\n",
            "Collecting pytesseract\n",
            "  Downloading pytesseract-0.3.8.tar.gz (14 kB)\n",
            "Requirement already satisfied: Pillow in /usr/local/lib/python3.7/dist-packages (from pytesseract) (7.1.2)\n",
            "Building wheels for collected packages: pytesseract\n",
            "  Building wheel for pytesseract (setup.py) ... \u001b[?25l\u001b[?25hdone\n",
            "  Created wheel for pytesseract: filename=pytesseract-0.3.8-py2.py3-none-any.whl size=14070 sha256=b026894f931019fa462ad817bc21554d4fdbe1c87c264114425144007af8bd55\n",
            "  Stored in directory: /root/.cache/pip/wheels/a4/89/b9/3f11250225d0f90e5454fcc30fd1b7208db226850715aa9ace\n",
            "Successfully built pytesseract\n",
            "Installing collected packages: pytesseract\n",
            "Successfully installed pytesseract-0.3.8\n"
          ]
        }
      ],
      "source": [
        "#Install necessery libraries\n",
        "\n",
        "!sudo apt install tesseract-ocr\n",
        "!pip install pytesseract\n",
        "\n",
        "import pytesseract\n",
        "\n",
        "import shutil\n",
        "\n",
        "import os\n",
        "\n",
        "import random\n",
        "\n",
        "from PIL import Image"
      ]
    },
    {
      "cell_type": "code",
      "source": [
        "#Get the required image\n",
        "!pip install wget\n",
        "import wget\n",
        "image_url = \"https://user-images.githubusercontent.com/71645462/140041751-b7eaabfa-2da0-4208-bda2-75c9db41e862.png\"\n",
        "image = wget.download(image_url)"
      ],
      "metadata": {
        "colab": {
          "base_uri": "https://localhost:8080/"
        },
        "id": "g0t0NnK2YNd2",
        "outputId": "eacaaf65-47ea-4736-aee5-3320ed169984"
      },
      "execution_count": 2,
      "outputs": [
        {
          "output_type": "stream",
          "name": "stdout",
          "text": [
            "Collecting wget\n",
            "  Downloading wget-3.2.zip (10 kB)\n",
            "Building wheels for collected packages: wget\n",
            "  Building wheel for wget (setup.py) ... \u001b[?25l\u001b[?25hdone\n",
            "  Created wheel for wget: filename=wget-3.2-py3-none-any.whl size=9675 sha256=676ddc76e21678b106de045ebf44a2a197f2411ca4acc2e72d65161cf04bcdfc\n",
            "  Stored in directory: /root/.cache/pip/wheels/a1/b6/7c/0e63e34eb06634181c63adacca38b79ff8f35c37e3c13e3c02\n",
            "Successfully built wget\n",
            "Installing collected packages: wget\n",
            "Successfully installed wget-3.2\n"
          ]
        }
      ]
    },
    {
      "cell_type": "code",
      "source": [
        "#Extract the text from the given image\n",
        "extractedInformation = pytesseract.image_to_string(Image.open(image))"
      ],
      "metadata": {
        "id": "pN5ox7-3Xzse"
      },
      "execution_count": 3,
      "outputs": []
    },
    {
      "cell_type": "code",
      "source": [
        "#Extracted text\n",
        "print(extractedInformation)"
      ],
      "metadata": {
        "id": "iFOGaBicZrEB",
        "colab": {
          "base_uri": "https://localhost:8080/"
        },
        "outputId": "00706254-9f3d-4c96-b743-819fc5d44c1c"
      },
      "execution_count": 4,
      "outputs": [
        {
          "output_type": "stream",
          "name": "stdout",
          "text": [
            "From: Al Ami, Salim <salim.amri@gmail.com>\n",
            "Sent: 25 August 2021 17:20\n",
            "\n",
            "To: Al Harthi, Mohammed <mohd4.king@rihal.om>\n",
            "\n",
            "Ce: Al haji, Malik <hajri990@ ocaa.co.om>; Omar, Naif <nnnn49@apple.com>\n",
            "\n",
            "Subject: Conference Rooms Booking Details\n",
            "\n",
            "Dear Mohammed,\n",
            "\n",
            "As per our last discussion these are the available conference rooms available for booking along\n",
            "with their rates for full da\n",
            "\n",
            " \n",
            "\n",
            "- Room: Luban, available on 26/09/2021. Rate: $4540\n",
            "- Room: Mazoon, available on 04/12/2021 and 13/02/2022. Rate: $3000\n",
            "- Room: Dhofar. Available on 11/11/2021. Rate: $2500\n",
            "- Room: Nizwa. Available on 13/12/2022. Rate: $1200\n",
            "\n",
            "Please let me know which ones you are interested so we go through more details.\n",
            "Best regards,\n",
            "\n",
            "Salim Al Amri\n",
            "\f\n"
          ]
        }
      ]
    },
    {
      "cell_type": "code",
      "source": [
        "#Import and install libraries to find requested outputs\n",
        "import re\n",
        "\n",
        "\n",
        "#1-Dates\n",
        "!pip install datefinder #Install datefinder to quickly find dates within the extracted text\n",
        "import datefinder\n",
        "date_finder = datefinder.find_dates(extractedInformation) #Extract dates\n",
        "\n",
        "Dates = []                #Find dates and add them to a list\n",
        "for match in date_finder:\n",
        "  Dates.append(match.date())\n"
      ],
      "metadata": {
        "id": "HFKk46XseWWP",
        "colab": {
          "base_uri": "https://localhost:8080/"
        },
        "outputId": "aae1a805-74dc-4496-94b8-30d28a2c4012"
      },
      "execution_count": 5,
      "outputs": [
        {
          "output_type": "stream",
          "name": "stdout",
          "text": [
            "Collecting datefinder\n",
            "  Downloading datefinder-0.7.1-py2.py3-none-any.whl (10 kB)\n",
            "Requirement already satisfied: python-dateutil>=2.4.2 in /usr/local/lib/python3.7/dist-packages (from datefinder) (2.8.2)\n",
            "Requirement already satisfied: regex>=2017.02.08 in /usr/local/lib/python3.7/dist-packages (from datefinder) (2019.12.20)\n",
            "Requirement already satisfied: pytz in /usr/local/lib/python3.7/dist-packages (from datefinder) (2018.9)\n",
            "Requirement already satisfied: six>=1.5 in /usr/local/lib/python3.7/dist-packages (from python-dateutil>=2.4.2->datefinder) (1.15.0)\n",
            "Installing collected packages: datefinder\n",
            "Successfully installed datefinder-0.7.1\n"
          ]
        }
      ]
    },
    {
      "cell_type": "code",
      "source": [
        "#2-Rooms\n",
        "\n",
        "rooms = re.findall(r\"Room: (\\w*)\", extractedInformation) #Find characters after 'Room:'\n",
        "rooms"
      ],
      "metadata": {
        "id": "N9ebRNqaaOYG",
        "colab": {
          "base_uri": "https://localhost:8080/"
        },
        "outputId": "e671b37f-d62d-46f7-f43c-5c242736aacf"
      },
      "execution_count": 6,
      "outputs": [
        {
          "output_type": "execute_result",
          "data": {
            "text/plain": [
              "['Luban', 'Mazoon', 'Dhofar', 'Nizwa']"
            ]
          },
          "metadata": {},
          "execution_count": 6
        }
      ]
    },
    {
      "cell_type": "code",
      "source": [
        "#3-Rates\n",
        "\n",
        "rates = re.findall(r\"Rate: (\\$\\d+)\", extractedInformation) #Find characters after 'Rate:'\n",
        "rates"
      ],
      "metadata": {
        "id": "iD_0E_xMhlbB",
        "colab": {
          "base_uri": "https://localhost:8080/"
        },
        "outputId": "81d357a6-58d3-4df8-8ff2-850e51014789"
      },
      "execution_count": 7,
      "outputs": [
        {
          "output_type": "execute_result",
          "data": {
            "text/plain": [
              "['$4540', '$3000', '$2500', '$1200']"
            ]
          },
          "metadata": {},
          "execution_count": 7
        }
      ]
    },
    {
      "cell_type": "code",
      "source": [
        "#4-Names\n",
        "\n",
        "names = re.findall(r'[:;]\\s*(.+?)\\s*<', extractedInformation) #Find all names\n",
        "names = [w.replace('Ami', 'Amri') for w in names] #Replace missing 'r'\n",
        "names = [w.replace('haji', 'hajri') for w in names] #Replace missing 'r'\n",
        "names = [\" \".join(n.split(\", \")[::-1]) for n in names] #Flip format\n",
        "names"
      ],
      "metadata": {
        "id": "jiP0t6ZAeEss",
        "colab": {
          "base_uri": "https://localhost:8080/"
        },
        "outputId": "54997de7-5713-47f2-a897-1f8821ca39a7"
      },
      "execution_count": 8,
      "outputs": [
        {
          "output_type": "execute_result",
          "data": {
            "text/plain": [
              "['Salim Al Amri', 'Mohammed Al Harthi', 'Malik Al hajri', 'Naif Omar']"
            ]
          },
          "metadata": {},
          "execution_count": 8
        }
      ]
    },
    {
      "cell_type": "code",
      "source": [
        "#5-Emails\n",
        "\n",
        "emails_n = re.findall(r'[\\w.+-]+@[\\w-]+\\.[\\w.-]+', extractedInformation) #Find all emails\n",
        "emails_s = re.findall(r'[\\w.+-]+@ [\\w-]+\\.[\\w.-]+', extractedInformation) #Find email with ''\n",
        "emails_s = [x.replace(' ','') for x in emails_s] #Remove ''\n",
        "emails = (emails_n+emails_s) #Combine for list of all emails\n",
        "emails"
      ],
      "metadata": {
        "id": "F6wMuU5bVmKp",
        "colab": {
          "base_uri": "https://localhost:8080/"
        },
        "outputId": "9bddbe89-a6df-4b4d-f3c3-3669ac22bef2"
      },
      "execution_count": 9,
      "outputs": [
        {
          "output_type": "execute_result",
          "data": {
            "text/plain": [
              "['salim.amri@gmail.com',\n",
              " 'mohd4.king@rihal.om',\n",
              " 'nnnn49@apple.com',\n",
              " 'hajri990@ocaa.co.om']"
            ]
          },
          "metadata": {},
          "execution_count": 9
        }
      ]
    }
  ]
}